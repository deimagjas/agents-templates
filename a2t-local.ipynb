{
 "cells": [
  {
   "cell_type": "markdown",
   "id": "8d85ab08",
   "metadata": {},
   "source": [
    "# Ejemplo de agente de crítica\n",
    "\n",
    "## Introducción\n",
    "\n",
    "En este notebook se mostrará la arquitectua de solución y depliegue para el ejemplo de Agente de crítica\n",
    "\n",
    "\n",
    "### Detalles de la implementación\n",
    "\n",
    "\n",
    "| Información         |   Detalles                                                                          |\n",
    "|:--------------------|:---------------------------------------------------------------------------------|\n",
    "| Tipo de Agente          |                                                                          |\n",
    "| Framework utilizado  | Google ADK                                                                   |\n",
    "| Modelo LLM           | Anthropic Claude Sonnet 3.7                                                        |\n",
    "| Tipo de autenticación | token |\n",
    "| OpenAI compatible   | Si                                                                   |\n",
    "\n",
    "\n",
    "### Arquitectura del agente\n",
    "\n",
    "En la siguiente imagen se puede visualizar un diagrama de la arquitectura del agente\n",
    "\n",
    "<div style=\"text-align:left\">\n",
    "    <img src=\"images/architecture_runtime.png\" width=\"50%\"/>\n",
    "</div>\n",
    "\n",
    "### Diagrama de despligue\n",
    "En la siguiente imagen se encuetra el diagrama de despliegue para esta arquitectura.\n",
    "\n",
    "<div style=\"text-align:left\">\n",
    "    <img src=\"images/architecture_runtime_despliegue.png\" width=\"50%\"/>\n",
    "</div>\n",
    "\n",
    "\n",
    "### Características principales\n",
    "\n",
    "* Configruación de sampling variables\n",
    "* Uso de pydantic para manejar tipos de datos \n",
    "* Uso de ADK de Google\n"
   ]
  },
  {
   "cell_type": "markdown",
   "id": "8740193a",
   "metadata": {},
   "source": [
    "# Sincronizar \n",
    "\n",
    "Se hace carga de dependencias y variables de entorno"
   ]
  },
  {
   "cell_type": "code",
   "execution_count": 9,
   "id": "763da679",
   "metadata": {},
   "outputs": [
    {
     "name": "stdout",
     "output_type": "stream",
     "text": [
      "\u001b[2mResolved \u001b[1m133 packages\u001b[0m \u001b[2min 18ms\u001b[0m\u001b[0m\n",
      "\u001b[2mAudited \u001b[1m128 packages\u001b[0m \u001b[2min 84ms\u001b[0m\u001b[0m\n"
     ]
    }
   ],
   "source": [
    "!uv sync"
   ]
  },
  {
   "cell_type": "code",
   "execution_count": 10,
   "id": "e4328c8b",
   "metadata": {},
   "outputs": [
    {
     "data": {
      "text/plain": [
       "True"
      ]
     },
     "execution_count": 10,
     "metadata": {},
     "output_type": "execute_result"
    }
   ],
   "source": [
    "from dotenv import load_dotenv\n",
    "from pathlib import Path\n",
    "\n",
    "env_path = Path(\"./a2t/.env\")\n",
    "\n",
    "load_dotenv(\n",
    "    dotenv_path=env_path\n",
    ")"
   ]
  },
  {
   "cell_type": "markdown",
   "id": "5181b9db",
   "metadata": {},
   "source": [
    "# Agente"
   ]
  },
  {
   "cell_type": "code",
   "execution_count": 11,
   "id": "2fe673e0",
   "metadata": {},
   "outputs": [
    {
     "name": "stdout",
     "output_type": "stream",
     "text": [
      "Overwriting a2t/agent.py\n"
     ]
    }
   ],
   "source": [
    "%%writefile a2t/agent.py\n",
    "from google.adk.agents import LlmAgent\n",
    "from google.adk.models.lite_llm import LiteLlm\n",
    "\n",
    "def get_current_time(city: str) -> dict:\n",
    "    \"\"\"Returns the current time in a specified city.\"\"\"\n",
    "    return {\"status\": \"success\", \"city\": city, \"time\": \"10:30 AM\"}\n",
    "\n",
    "root_agent = LlmAgent(\n",
    "    model=LiteLlm(model=\"bedrock/anthropic.claude-3-sonnet-20240229-v1:0\"),\n",
    "    name='root_agent',\n",
    "    description=\"Tells the current time in a specified city.\",\n",
    "    instruction=\"You are a helpful assistant that tells the current time in cities. Use the 'get_current_time' tool for this purpose.\",\n",
    "    tools=[get_current_time],\n",
    ")\n"
   ]
  },
  {
   "cell_type": "code",
   "execution_count": 12,
   "id": "dcd1ca38",
   "metadata": {},
   "outputs": [
    {
     "name": "stdout",
     "output_type": "stream",
     "text": [
      "/Users/deimagjas/qubits/agents-templates/.venv/lib/python3.13/site-packages/google/adk/cli/fast_api.py:179: UserWarning: [EXPERIMENTAL] InMemoryCredentialService: This feature is experimental and may change or be removed in future versions without notice. It may introduce breaking changes at any time.\n",
      "  credential_service = InMemoryCredentialService()\n",
      "/Users/deimagjas/qubits/agents-templates/.venv/lib/python3.13/site-packages/google/adk/auth/credential_service/in_memory_credential_service.py:33: UserWarning: [EXPERIMENTAL] BaseCredentialService: This feature is experimental and may change or be removed in future versions without notice. It may introduce breaking changes at any time.\n",
      "  super().__init__()\n",
      "\u001b[32mINFO\u001b[0m:     Started server process [\u001b[36m58306\u001b[0m]\n",
      "\u001b[32mINFO\u001b[0m:     Waiting for application startup.\n",
      "\u001b[32m\n",
      "+-----------------------------------------------------------------------------+\n",
      "| ADK Web Server started                                                      |\n",
      "|                                                                             |\n",
      "| For local testing, access at http://127.0.0.1:8000.                         |\n",
      "+-----------------------------------------------------------------------------+\n",
      "\u001b[0m\n",
      "\u001b[32mINFO\u001b[0m:     Application startup complete.\n",
      "\u001b[32mINFO\u001b[0m:     Uvicorn running on \u001b[1mhttp://127.0.0.1:8000\u001b[0m (Press CTRL+C to quit)\n",
      "\u001b[32mINFO\u001b[0m:     127.0.0.1:57977 - \"\u001b[1mGET / HTTP/1.1\u001b[0m\" \u001b[33m307 Temporary Redirect\u001b[0m\n",
      "\u001b[32mINFO\u001b[0m:     127.0.0.1:57977 - \"\u001b[1mGET /dev-ui/ HTTP/1.1\u001b[0m\" \u001b[32m200 OK\u001b[0m\n",
      "\u001b[32mINFO\u001b[0m:     127.0.0.1:57977 - \"\u001b[1mGET /dev-ui/assets/config/runtime-config.json HTTP/1.1\u001b[0m\" \u001b[32m200 OK\u001b[0m\n",
      "\u001b[32mINFO\u001b[0m:     127.0.0.1:57977 - \"\u001b[1mGET /list-apps?relative_path=./ HTTP/1.1\u001b[0m\" \u001b[32m200 OK\u001b[0m\n",
      "\u001b[32mINFO\u001b[0m:     127.0.0.1:57977 - \"\u001b[1mPOST /apps/a2t/users/user/sessions HTTP/1.1\u001b[0m\" \u001b[32m200 OK\u001b[0m\n",
      "\u001b[32mINFO\u001b[0m:     127.0.0.1:57977 - \"\u001b[1mGET /apps/a2t/eval_sets HTTP/1.1\u001b[0m\" \u001b[32m200 OK\u001b[0m\n",
      "\u001b[32mINFO\u001b[0m:     127.0.0.1:57979 - \"\u001b[1mGET /apps/a2t/eval_results HTTP/1.1\u001b[0m\" \u001b[32m200 OK\u001b[0m\n",
      "\u001b[32mINFO\u001b[0m:     127.0.0.1:57977 - \"\u001b[1mGET /apps/a2t/users/user/sessions HTTP/1.1\u001b[0m\" \u001b[32m200 OK\u001b[0m\n",
      "\u001b[32mINFO\u001b[0m:     127.0.0.1:57979 - \"\u001b[1mGET /apps/a2t/users/user/sessions HTTP/1.1\u001b[0m\" \u001b[32m200 OK\u001b[0m\n",
      "\u001b[32mINFO\u001b[0m:     127.0.0.1:57977 - \"\u001b[1mPOST /run_sse HTTP/1.1\u001b[0m\" \u001b[32m200 OK\u001b[0m\n",
      "2025-10-20 21:11:01,306 - INFO - envs.py:47 - Loaded .env file for a2t at /Users/deimagjas/qubits/agents-templates/a2t/.env\n",
      "2025-10-20 21:11:01,307 - INFO - envs.py:47 - Loaded .env file for a2t at /Users/deimagjas/qubits/agents-templates/a2t/.env\n",
      "2025-10-20 21:11:02,377 - INFO - agent_loader.py:126 - Found root_agent in a2t.agent\n",
      "/Users/deimagjas/qubits/agents-templates/.venv/lib/python3.13/site-packages/google/adk/cli/adk_web_server.py:475: UserWarning: [EXPERIMENTAL] App: This feature is experimental and may change or be removed in future versions without notice. It may introduce breaking changes at any time.\n",
      "  agentic_app = App(\n",
      "\u001b[92m21:11:02 - LiteLLM:INFO\u001b[0m: utils.py:3388 - \n",
      "LiteLLM completion() model= anthropic.claude-3-sonnet-20240229-v1:0; provider = bedrock\n",
      "2025-10-20 21:11:02,383 - INFO - utils.py:3388 - \n",
      "LiteLLM completion() model= anthropic.claude-3-sonnet-20240229-v1:0; provider = bedrock\n",
      "\u001b[32mINFO\u001b[0m:     127.0.0.1:57977 - \"\u001b[1mGET /apps/a2t/users/user/sessions/161e170d-eefd-46de-9c60-4381d4c389c8 HTTP/1.1\u001b[0m\" \u001b[32m200 OK\u001b[0m\n",
      "\u001b[32mINFO\u001b[0m:     127.0.0.1:57984 - \"\u001b[1mGET /debug/trace/session/161e170d-eefd-46de-9c60-4381d4c389c8 HTTP/1.1\u001b[0m\" \u001b[32m200 OK\u001b[0m\n",
      "^C\n",
      "\u001b[32mINFO\u001b[0m:     Finished server process [\u001b[36m58306\u001b[0m]\n",
      "\u001b[31mERROR\u001b[0m:    Traceback (most recent call last):\n",
      "  File \"/Users/deimagjas/.local/share/uv/python/cpython-3.13.0-macos-aarch64-none/lib/python3.13/asyncio/runners.py\", line 194, in run\n",
      "    return runner.run(main)\n",
      "           ~~~~~~~~~~^^^^^^\n",
      "  File \"/Users/deimagjas/.local/share/uv/python/cpython-3.13.0-macos-aarch64-none/lib/python3.13/asyncio/runners.py\", line 118, in run\n",
      "    return self._loop.run_until_complete(task)\n",
      "           ~~~~~~~~~~~~~~~~~~~~~~~~~~~~~^^^^^^\n",
      "  File \"/Users/deimagjas/.local/share/uv/python/cpython-3.13.0-macos-aarch64-none/lib/python3.13/asyncio/base_events.py\", line 708, in run_until_complete\n",
      "    self.run_forever()\n",
      "    ~~~~~~~~~~~~~~~~^^\n",
      "  File \"/Users/deimagjas/.local/share/uv/python/cpython-3.13.0-macos-aarch64-none/lib/python3.13/asyncio/base_events.py\", line 679, in run_forever\n",
      "    self._run_once()\n",
      "    ~~~~~~~~~~~~~~^^\n",
      "  File \"/Users/deimagjas/.local/share/uv/python/cpython-3.13.0-macos-aarch64-none/lib/python3.13/asyncio/base_events.py\", line 2027, in _run_once\n",
      "    handle._run()\n",
      "    ~~~~~~~~~~~^^\n",
      "  File \"/Users/deimagjas/.local/share/uv/python/cpython-3.13.0-macos-aarch64-none/lib/python3.13/asyncio/events.py\", line 89, in _run\n",
      "    self._context.run(self._callback, *self._args)\n",
      "    ~~~~~~~~~~~~~~~~~^^^^^^^^^^^^^^^^^^^^^^^^^^^^^\n",
      "  File \"/Users/deimagjas/qubits/agents-templates/.venv/lib/python3.13/site-packages/uvicorn/server.py\", line 70, in serve\n",
      "    with self.capture_signals():\n",
      "         ~~~~~~~~~~~~~~~~~~~~^^\n",
      "  File \"/Users/deimagjas/.local/share/uv/python/cpython-3.13.0-macos-aarch64-none/lib/python3.13/contextlib.py\", line 148, in __exit__\n",
      "    next(self.gen)\n",
      "    ~~~~^^^^^^^^^^\n",
      "  File \"/Users/deimagjas/qubits/agents-templates/.venv/lib/python3.13/site-packages/uvicorn/server.py\", line 331, in capture_signals\n",
      "    signal.raise_signal(captured_signal)\n",
      "    ~~~~~~~~~~~~~~~~~~~^^^^^^^^^^^^^^^^^\n",
      "  File \"/Users/deimagjas/.local/share/uv/python/cpython-3.13.0-macos-aarch64-none/lib/python3.13/asyncio/runners.py\", line 157, in _on_sigint\n",
      "    raise KeyboardInterrupt()\n",
      "KeyboardInterrupt\n",
      "\n",
      "During handling of the above exception, another exception occurred:\n",
      "\n",
      "Traceback (most recent call last):\n",
      "  File \"/Users/deimagjas/qubits/agents-templates/.venv/lib/python3.13/site-packages/starlette/routing.py\", line 701, in lifespan\n",
      "    await receive()\n",
      "  File \"/Users/deimagjas/qubits/agents-templates/.venv/lib/python3.13/site-packages/uvicorn/lifespan/on.py\", line 137, in receive\n",
      "    return await self.receive_queue.get()\n",
      "           ^^^^^^^^^^^^^^^^^^^^^^^^^^^^^^\n",
      "  File \"/Users/deimagjas/.local/share/uv/python/cpython-3.13.0-macos-aarch64-none/lib/python3.13/asyncio/queues.py\", line 186, in get\n",
      "    await getter\n",
      "asyncio.exceptions.CancelledError\n",
      "\n",
      "\n",
      "Aborted!\n"
     ]
    }
   ],
   "source": [
    "!adk web"
   ]
  }
 ],
 "metadata": {
  "kernelspec": {
   "display_name": "template",
   "language": "python",
   "name": "python3"
  },
  "language_info": {
   "codemirror_mode": {
    "name": "ipython",
    "version": 3
   },
   "file_extension": ".py",
   "mimetype": "text/x-python",
   "name": "python",
   "nbconvert_exporter": "python",
   "pygments_lexer": "ipython3",
   "version": "3.13.0"
  }
 },
 "nbformat": 4,
 "nbformat_minor": 5
}
